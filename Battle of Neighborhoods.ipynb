{
    "cells": [
        {
            "cell_type": "markdown",
            "metadata": {
                "collapsed": true
            },
            "source": "<H1> Battle of the Neighborhoods <H1>"
        },
        {
            "cell_type": "markdown",
            "metadata": {},
            "source": "                     Daniele Rizzi"
        },
        {
            "cell_type": "markdown",
            "metadata": {},
            "source": "<h3> Introduction <h3>"
        },
        {
            "cell_type": "markdown",
            "metadata": {},
            "source": "Opening a restaurant may be a difficult project, due to many possible errors that the owner may encounter in this phase. Luckily, Data Science can help to simplify this task and help the owner to decide where to open a restaurant and which kind of food may be the best to serve the customers.\n\nIn this project I would like to help a future owner to decide\n\n1. which is the best spot for a restaurant \n+ which kind of food is the best to offer\n+ price range of the restaurant"
        },
        {
            "cell_type": "markdown",
            "metadata": {},
            "source": "<h3> Data Section <h3>"
        },
        {
            "cell_type": "markdown",
            "metadata": {},
            "source": "My work will start by understaning which are the most popular activities in each Toronto neighborhood; using these data we will be able to understand if a place may be a popular choice for a restaurant give the number of related activities that spot has nearby (e.g. restaurants may be found more frequently near gyms or near coffee shops).\nAfter we have the overview of the city, and once we know if restaurants are more frequent areound some popular place, we will use the data to understand which kind of food is more offered to give the owner some ideas about the food people tend to prefer in that area.\n\nOnce we have identified the area and type of food, we can use data from some popular website like Tripadvisor or Foursquare to understand the price range of the restaurants nearby, in order to decide in which price range the restaurant should be placed."
        },
        {
            "cell_type": "code",
            "execution_count": null,
            "metadata": {},
            "outputs": [],
            "source": ""
        }
    ],
    "metadata": {
        "kernelspec": {
            "display_name": "Python 3.6",
            "language": "python",
            "name": "python3"
        },
        "language_info": {
            "codemirror_mode": {
                "name": "ipython",
                "version": 3
            },
            "file_extension": ".py",
            "mimetype": "text/x-python",
            "name": "python",
            "nbconvert_exporter": "python",
            "pygments_lexer": "ipython3",
            "version": "3.6.8"
        }
    },
    "nbformat": 4,
    "nbformat_minor": 1
}