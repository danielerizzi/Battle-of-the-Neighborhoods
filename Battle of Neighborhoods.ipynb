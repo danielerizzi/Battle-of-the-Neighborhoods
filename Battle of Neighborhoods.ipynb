{
    "cells": [
        {
            "cell_type": "markdown",
            "metadata": {
                "collapsed": true
            },
            "source": "<H1> Battle of the Neighborhoods <H1>"
        },
        {
            "cell_type": "markdown",
            "metadata": {},
            "source": "                     Daniele Rizzi"
        },
        {
            "cell_type": "markdown",
            "metadata": {},
            "source": "<h3> Introduction <h3>"
        },
        {
            "cell_type": "markdown",
            "metadata": {},
            "source": "Opening a restaurant may be a difficult project, due to many possible errors that the owner may encounter in this phase. Luckily, Data Science can help to simplify this task and help the owner to decide where to open a restaurant and which kind of food may be the best to serve the customers.\n\nIn this project I would like to help a future owner to decide which is the best spot to open a restaurant and which kind of food is the best to offer. \n\nThis project is useful for restaurant owners / investors that want to get in food businesses; a restaurant in a good position will bring great benefits to both investors and owners since it will attract many people. On the other side, investors and owners should keep in mind that the type of cuisine that will be served also can improve restaurant's popularity and, as a consequence, bring financial gains."
        },
        {
            "cell_type": "markdown",
            "metadata": {},
            "source": "<h3> Data Analysis Methodology <h3>"
        },
        {
            "cell_type": "markdown",
            "metadata": {},
            "source": "The work will start by understaning which are the most popular activities in each Toronto neighborhood to give us an idea of which are the most popular neighborhoods that attract customers. We will then use the data to understand if there is a correlation between some activities and restaurants in these neighborhoods, to evaluate if some activities can be found more frequently near restaurants or not; this will help us to identify possible choices for a restaurant where there is less competitivity, due to the fewer number of restaurants, but the possibility to attract customers is high.\n\nOnce we have identified the area and type of food that shoule be served, we can use data from some popular website like Tripadvisor or Foursquare to understand the price range of the restaurants nearby, in order to decide in which price range the restaurant should be placed. This will help the investors to decide if they want to offer the customers a high level, high price cuisine, or a cheaper alternative."
        }
    ],
    "metadata": {
        "kernelspec": {
            "display_name": "Python 3.6",
            "language": "python",
            "name": "python3"
        },
        "language_info": {
            "codemirror_mode": {
                "name": "ipython",
                "version": 3
            },
            "file_extension": ".py",
            "mimetype": "text/x-python",
            "name": "python",
            "nbconvert_exporter": "python",
            "pygments_lexer": "ipython3",
            "version": "3.6.8"
        }
    },
    "nbformat": 4,
    "nbformat_minor": 1
}